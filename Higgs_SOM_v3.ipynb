{
 "cells": [
  {
   "cell_type": "code",
   "execution_count": 50,
   "metadata": {},
   "outputs": [],
   "source": [
    "# File system manangement\n",
    "import time, os\n",
    "\n",
    "# Mathematical functions\n",
    "import math\n",
    "\n",
    "# Data manipulation\n",
    "import numpy as np\n",
    "import pandas as pd\n",
    "\n",
    "# Minisom and scikit-learn\n",
    "from minisom import MiniSom\n",
    "from sklearn.preprocessing import scale\n",
    "from sklearn.model_selection import train_test_split\n",
    "from sklearn.metrics import classification_report\n",
    "\n",
    "\n",
    "# Plotting and visualization\n",
    "import matplotlib.pyplot as plt\n",
    "%matplotlib inline\n",
    "import matplotlib.patches as mpatches\n",
    "\n",
    "from mpl_toolkits.mplot3d import Axes3D\n",
    "from matplotlib.colors import ListedColormap"
   ]
  },
  {
   "cell_type": "code",
   "execution_count": 51,
   "metadata": {},
   "outputs": [
    {
     "data": {
      "text/html": [
       "<div>\n",
       "<style scoped>\n",
       "    .dataframe tbody tr th:only-of-type {\n",
       "        vertical-align: middle;\n",
       "    }\n",
       "\n",
       "    .dataframe tbody tr th {\n",
       "        vertical-align: top;\n",
       "    }\n",
       "\n",
       "    .dataframe thead th {\n",
       "        text-align: right;\n",
       "    }\n",
       "</style>\n",
       "<table border=\"1\" class=\"dataframe\">\n",
       "  <thead>\n",
       "    <tr style=\"text-align: right;\">\n",
       "      <th></th>\n",
       "      <th>EventId</th>\n",
       "      <th>DER_mass_MMC</th>\n",
       "      <th>DER_mass_transverse_met_lep</th>\n",
       "      <th>DER_mass_vis</th>\n",
       "      <th>DER_pt_h</th>\n",
       "      <th>DER_deltaeta_jet_jet</th>\n",
       "      <th>DER_mass_jet_jet</th>\n",
       "      <th>DER_prodeta_jet_jet</th>\n",
       "      <th>DER_deltar_tau_lep</th>\n",
       "      <th>DER_pt_tot</th>\n",
       "      <th>...</th>\n",
       "      <th>PRI_jet_num</th>\n",
       "      <th>PRI_jet_leading_pt</th>\n",
       "      <th>PRI_jet_leading_eta</th>\n",
       "      <th>PRI_jet_leading_phi</th>\n",
       "      <th>PRI_jet_subleading_pt</th>\n",
       "      <th>PRI_jet_subleading_eta</th>\n",
       "      <th>PRI_jet_subleading_phi</th>\n",
       "      <th>PRI_jet_all_pt</th>\n",
       "      <th>Weight</th>\n",
       "      <th>Label</th>\n",
       "    </tr>\n",
       "  </thead>\n",
       "  <tbody>\n",
       "    <tr>\n",
       "      <th>0</th>\n",
       "      <td>100000</td>\n",
       "      <td>138.470</td>\n",
       "      <td>51.655</td>\n",
       "      <td>97.827</td>\n",
       "      <td>27.980</td>\n",
       "      <td>0.91</td>\n",
       "      <td>124.711</td>\n",
       "      <td>2.666</td>\n",
       "      <td>3.064</td>\n",
       "      <td>41.928</td>\n",
       "      <td>...</td>\n",
       "      <td>2</td>\n",
       "      <td>67.435</td>\n",
       "      <td>2.150</td>\n",
       "      <td>0.444</td>\n",
       "      <td>46.062</td>\n",
       "      <td>1.24</td>\n",
       "      <td>-2.475</td>\n",
       "      <td>113.497</td>\n",
       "      <td>0.002653</td>\n",
       "      <td>s</td>\n",
       "    </tr>\n",
       "    <tr>\n",
       "      <th>1</th>\n",
       "      <td>100001</td>\n",
       "      <td>160.937</td>\n",
       "      <td>68.768</td>\n",
       "      <td>103.235</td>\n",
       "      <td>48.146</td>\n",
       "      <td>-999.00</td>\n",
       "      <td>-999.000</td>\n",
       "      <td>-999.000</td>\n",
       "      <td>3.473</td>\n",
       "      <td>2.078</td>\n",
       "      <td>...</td>\n",
       "      <td>1</td>\n",
       "      <td>46.226</td>\n",
       "      <td>0.725</td>\n",
       "      <td>1.158</td>\n",
       "      <td>-999.000</td>\n",
       "      <td>-999.00</td>\n",
       "      <td>-999.000</td>\n",
       "      <td>46.226</td>\n",
       "      <td>2.233584</td>\n",
       "      <td>b</td>\n",
       "    </tr>\n",
       "    <tr>\n",
       "      <th>2</th>\n",
       "      <td>100002</td>\n",
       "      <td>-999.000</td>\n",
       "      <td>162.172</td>\n",
       "      <td>125.953</td>\n",
       "      <td>35.635</td>\n",
       "      <td>-999.00</td>\n",
       "      <td>-999.000</td>\n",
       "      <td>-999.000</td>\n",
       "      <td>3.148</td>\n",
       "      <td>9.336</td>\n",
       "      <td>...</td>\n",
       "      <td>1</td>\n",
       "      <td>44.251</td>\n",
       "      <td>2.053</td>\n",
       "      <td>-2.028</td>\n",
       "      <td>-999.000</td>\n",
       "      <td>-999.00</td>\n",
       "      <td>-999.000</td>\n",
       "      <td>44.251</td>\n",
       "      <td>2.347389</td>\n",
       "      <td>b</td>\n",
       "    </tr>\n",
       "    <tr>\n",
       "      <th>3</th>\n",
       "      <td>100003</td>\n",
       "      <td>143.905</td>\n",
       "      <td>81.417</td>\n",
       "      <td>80.943</td>\n",
       "      <td>0.414</td>\n",
       "      <td>-999.00</td>\n",
       "      <td>-999.000</td>\n",
       "      <td>-999.000</td>\n",
       "      <td>3.310</td>\n",
       "      <td>0.414</td>\n",
       "      <td>...</td>\n",
       "      <td>0</td>\n",
       "      <td>-999.000</td>\n",
       "      <td>-999.000</td>\n",
       "      <td>-999.000</td>\n",
       "      <td>-999.000</td>\n",
       "      <td>-999.00</td>\n",
       "      <td>-999.000</td>\n",
       "      <td>-0.000</td>\n",
       "      <td>5.446378</td>\n",
       "      <td>b</td>\n",
       "    </tr>\n",
       "    <tr>\n",
       "      <th>4</th>\n",
       "      <td>100004</td>\n",
       "      <td>175.864</td>\n",
       "      <td>16.915</td>\n",
       "      <td>134.805</td>\n",
       "      <td>16.405</td>\n",
       "      <td>-999.00</td>\n",
       "      <td>-999.000</td>\n",
       "      <td>-999.000</td>\n",
       "      <td>3.891</td>\n",
       "      <td>16.405</td>\n",
       "      <td>...</td>\n",
       "      <td>0</td>\n",
       "      <td>-999.000</td>\n",
       "      <td>-999.000</td>\n",
       "      <td>-999.000</td>\n",
       "      <td>-999.000</td>\n",
       "      <td>-999.00</td>\n",
       "      <td>-999.000</td>\n",
       "      <td>0.000</td>\n",
       "      <td>6.245333</td>\n",
       "      <td>b</td>\n",
       "    </tr>\n",
       "  </tbody>\n",
       "</table>\n",
       "<p>5 rows × 33 columns</p>\n",
       "</div>"
      ],
      "text/plain": [
       "   EventId  DER_mass_MMC  DER_mass_transverse_met_lep  DER_mass_vis  DER_pt_h  \\\n",
       "0   100000       138.470                       51.655        97.827    27.980   \n",
       "1   100001       160.937                       68.768       103.235    48.146   \n",
       "2   100002      -999.000                      162.172       125.953    35.635   \n",
       "3   100003       143.905                       81.417        80.943     0.414   \n",
       "4   100004       175.864                       16.915       134.805    16.405   \n",
       "\n",
       "   DER_deltaeta_jet_jet  DER_mass_jet_jet  DER_prodeta_jet_jet  \\\n",
       "0                  0.91           124.711                2.666   \n",
       "1               -999.00          -999.000             -999.000   \n",
       "2               -999.00          -999.000             -999.000   \n",
       "3               -999.00          -999.000             -999.000   \n",
       "4               -999.00          -999.000             -999.000   \n",
       "\n",
       "   DER_deltar_tau_lep  DER_pt_tot  ...  PRI_jet_num  PRI_jet_leading_pt  \\\n",
       "0               3.064      41.928  ...            2              67.435   \n",
       "1               3.473       2.078  ...            1              46.226   \n",
       "2               3.148       9.336  ...            1              44.251   \n",
       "3               3.310       0.414  ...            0            -999.000   \n",
       "4               3.891      16.405  ...            0            -999.000   \n",
       "\n",
       "   PRI_jet_leading_eta  PRI_jet_leading_phi  PRI_jet_subleading_pt  \\\n",
       "0                2.150                0.444                 46.062   \n",
       "1                0.725                1.158               -999.000   \n",
       "2                2.053               -2.028               -999.000   \n",
       "3             -999.000             -999.000               -999.000   \n",
       "4             -999.000             -999.000               -999.000   \n",
       "\n",
       "   PRI_jet_subleading_eta  PRI_jet_subleading_phi  PRI_jet_all_pt    Weight  \\\n",
       "0                    1.24                  -2.475         113.497  0.002653   \n",
       "1                 -999.00                -999.000          46.226  2.233584   \n",
       "2                 -999.00                -999.000          44.251  2.347389   \n",
       "3                 -999.00                -999.000          -0.000  5.446378   \n",
       "4                 -999.00                -999.000           0.000  6.245333   \n",
       "\n",
       "   Label  \n",
       "0      s  \n",
       "1      b  \n",
       "2      b  \n",
       "3      b  \n",
       "4      b  \n",
       "\n",
       "[5 rows x 33 columns]"
      ]
     },
     "execution_count": 51,
     "metadata": {},
     "output_type": "execute_result"
    }
   ],
   "source": [
    "df_train = pd.read_csv(\"SOM_project/data/training.zip\", compression='zip')\n",
    "\n",
    "df_train.head()"
   ]
  },
  {
   "cell_type": "code",
   "execution_count": 52,
   "metadata": {},
   "outputs": [],
   "source": [
    "df_train_signal = df_train[df_train.Label == 's']\n",
    "df_train_background = df_train[df_train.Label == 'b']"
   ]
  },
  {
   "cell_type": "code",
   "execution_count": 5,
   "metadata": {},
   "outputs": [
    {
     "data": {
      "text/plain": [
       "85667"
      ]
     },
     "execution_count": 5,
     "metadata": {},
     "output_type": "execute_result"
    }
   ],
   "source": [
    "len(df_train_signal)"
   ]
  },
  {
   "cell_type": "code",
   "execution_count": 6,
   "metadata": {},
   "outputs": [
    {
     "name": "stdout",
     "output_type": "stream",
     "text": [
      "(85667, 33)\n"
     ]
    },
    {
     "data": {
      "text/plain": [
       "(164333, 33)"
      ]
     },
     "execution_count": 6,
     "metadata": {},
     "output_type": "execute_result"
    }
   ],
   "source": [
    "print(df_train_signal.shape)\n",
    "print(df_train_background.shape)"
   ]
  },
  {
   "cell_type": "code",
   "execution_count": 7,
   "metadata": {},
   "outputs": [],
   "source": [
    "s_DER_pt_h = df_train_signal[\"DER_pt_h\"].to_numpy()\n",
    "b_DER_pt_h = df_train_background[\"DER_pt_h\"].to_numpy()"
   ]
  },
  {
   "cell_type": "code",
   "execution_count": 8,
   "metadata": {},
   "outputs": [
    {
     "data": {
      "text/plain": [
       "<matplotlib.legend.Legend at 0x2832750d0>"
      ]
     },
     "execution_count": 8,
     "metadata": {},
     "output_type": "execute_result"
    },
    {
     "data": {
      "image/png": "[encoded data removed]",
      "text/plain": [
       "<Figure size 640x480 with 1 Axes>"
      ]
     },
     "metadata": {},
     "output_type": "display_data"
    }
   ],
   "source": [
    "plt.hist([s_DER_pt_h, b_DER_pt_h], bins=50, range=[0,200], alpha=0.5, label=['sig', 'bkg'])\n",
    "plt.xlabel('DER_pt_h', labelpad=15)\n",
    "plt.xlabel('DER_mass_transverse_met_lep', labelpad=15)\n",
    "plt.legend(loc='upper right')"
   ]
  },
  {
   "cell_type": "code",
   "execution_count": 53,
   "metadata": {},
   "outputs": [
    {
     "name": "stdout",
     "output_type": "stream",
     "text": [
      "[[ 0.46141372  0.06833197  0.40768027 ...  1.5668      1.55858439\n",
      "   0.4125105 ]\n",
      " [ 0.51670419  0.55250482  0.54013641 ... -0.63936657 -0.63936694\n",
      "  -0.27381996]\n",
      " [-2.33785898  3.19515553  1.09655998 ... -0.63936657 -0.63936694\n",
      "  -0.29396985]\n",
      " ...\n",
      " [ 0.38016991  0.31931645 -0.13086367 ... -0.63936657 -0.63936694\n",
      "  -0.31701723]\n",
      " [ 0.35431502 -0.84532397 -0.30297338 ... -0.63936657 -0.63936694\n",
      "  -0.74543941]\n",
      " [-2.33785898  0.66533608 -0.25352276 ... -0.63936657 -0.63936694\n",
      "  -0.74543941]]\n",
      "[[ 0.26127244  0.65054373  0.81276013 ...  1.28270853  1.27505567\n",
      "   0.22500639]\n",
      " [ 0.31206388 -0.10525728  1.27669992 ...  1.28042025  1.27445316\n",
      "   0.89775551]\n",
      " [ 0.34249726 -0.71684829  0.66768282 ... -0.78116343 -0.78116463\n",
      "  -0.61475438]\n",
      " ...\n",
      " [ 0.23651383  1.50887345  0.40087667 ... -0.78116343 -0.78116463\n",
      "  -0.20600709]\n",
      " [ 0.21981053 -0.93238405 -0.63409821 ...  1.28134257  1.27559215\n",
      "   4.60901386]\n",
      " [ 0.09822518  0.94470031 -0.21196193 ... -0.78116343 -0.78116463\n",
      "  -0.49968367]]\n"
     ]
    }
   ],
   "source": [
    "from sklearn.preprocessing import StandardScaler\n",
    "\n",
    "df_train['Label'].replace({'s': 1, 'b': 0}, inplace=True)\n",
    "#Xb = np.array(df_train_background.drop(['EventId','Label','Weight'], axis=1).astype(float))\n",
    "Xb = np.array(df_train.drop(['EventId','Label','Weight'], axis=1).astype(float))\n",
    "# Normalize the signal data using StandardScaler\n",
    "scaler = StandardScaler()\n",
    "XB= scaler.fit_transform(Xb)\n",
    "print(XB)\n",
    "Xs = np.array(df_train_signal.drop(['EventId', 'Label', 'Weight'], axis=1).astype(float))\n",
    "# Normalize the signal data using StandardScaler\n",
    "scaler = StandardScaler()\n",
    "XS = scaler.fit_transform(Xs)\n",
    "#XS=XS[:10000]\n",
    "print(XS)"
   ]
  },
  {
   "cell_type": "code",
   "execution_count": 54,
   "metadata": {},
   "outputs": [
    {
     "name": "stdout",
     "output_type": "stream",
     "text": [
      "[[ 1.38470e+02  5.16550e+01  9.78270e+01 ...  1.24000e+00 -2.47500e+00\n",
      "   1.13497e+02]\n",
      " [ 1.60937e+02  6.87680e+01  1.03235e+02 ... -9.99000e+02 -9.99000e+02\n",
      "   4.62260e+01]\n",
      " [-9.99000e+02  1.62172e+02  1.25953e+02 ... -9.99000e+02 -9.99000e+02\n",
      "   4.42510e+01]\n",
      " ...\n",
      " [ 1.28498e+02  1.85880e+01  6.99030e+01 ...  2.51800e+00  4.60000e-02\n",
      "   1.90783e+02]\n",
      " [ 1.51113e+02  7.01060e+01  9.39910e+01 ... -9.99000e+02 -9.99000e+02\n",
      "   0.00000e+00]\n",
      " [ 1.04210e+02  1.82680e+01  5.84380e+01 ... -9.99000e+02 -9.99000e+02\n",
      "   4.93530e+01]]\n"
     ]
    }
   ],
   "source": [
    "df_train['Label'].replace({'s': 1, 'b': 0}, inplace=True)\n",
    "# X = np.array(df_train_background.drop(['EventId','Label','Weight'], axis=1).astype(float))\n",
    "X = np.array(df_train.drop(['EventId','Label','Weight'], axis=1).astype(float))\n",
    "y = np.array(df_train['Label'])\n",
    "# X=X[:10000]\n",
    "# y=y[:10000]\n",
    "# print(X)\n",
    "#X = np.array(df_train_background[['DER_mass_transverse_met_lep','DER_mass_jet_jet','PRI_tau_pt','PRI_jet_leading_pt','DER_mass_vis','DER_sum_pt']].astype(float))\n",
    "#X = np.array(df_train_background[['DER_mass_transverse_met_lep','DER_mass_jet_jet','PRI_tau_pt','PRI_jet_leading_pt','DER_mass_vis','DER_sum_pt']].astype(float))\n",
    "#X= np.array(df_train[['DER_mass_transverse_met_lep','DER_mass_jet_jet','PRI_tau_pt']].astype(float))\n",
    "#y = np.array(df_train['Label'])\n",
    "X=X[:50000]\n",
    "y=y[:50000]\n",
    "print(X)"
   ]
  },
  {
   "cell_type": "code",
   "execution_count": null,
   "metadata": {},
   "outputs": [],
   "source": [
    "X.shape"
   ]
  },
  {
   "cell_type": "code",
   "execution_count": 61,
   "metadata": {},
   "outputs": [],
   "source": [
    "scaler = StandardScaler()\n",
    "X= scaler.fit_transform(X)"
   ]
  },
  {
   "cell_type": "code",
   "execution_count": null,
   "metadata": {},
   "outputs": [],
   "source": [
    "def classify(som, data):\n",
    "    \"\"\"Classifies each sample in data in one of the classes definited\n",
    "    using the method labels_map.\n",
    "    Returns a list of the same length of data where the i-th element\n",
    "    is the class assigned to data[i].\n",
    "    \"\"\"\n",
    "    winmap = som.labels_map(X_train, y_train)\n",
    "    default_class = np.sum(list(winmap.values())).most_common()[0][0]\n",
    "    result = []\n",
    "    for d in data:\n",
    "        win_position = som.winner(d)\n",
    "        if win_position in winmap:\n",
    "            result.append(winmap[win_position].most_common()[0][0])\n",
    "        else:\n",
    "            result.append(default_class)\n",
    "    return result"
   ]
  },
  {
   "cell_type": "code",
   "execution_count": 62,
   "metadata": {},
   "outputs": [],
   "source": [
    "X_train, X_test, y_train, y_test = train_test_split(X, y, test_size=0.2)"
   ]
  },
  {
   "cell_type": "code",
   "execution_count": null,
   "metadata": {},
   "outputs": [],
   "source": [
    "# print(X_train)"
   ]
  },
  {
   "cell_type": "code",
   "execution_count": 63,
   "metadata": {},
   "outputs": [
    {
     "name": "stdout",
     "output_type": "stream",
     "text": [
      " [ 100000 / 100000 ] 100% - 0:00:00 left \n",
      " quantization error: 1.541021196052503\n"
     ]
    }
   ],
   "source": [
    "# import Minisom package\n",
    "from minisom import MiniSom\n",
    "\n",
    "# Initialization and training\n",
    "som_shape = (50, 50)\n",
    "som = MiniSom(som_shape[0], som_shape[1], input_len=X_train.shape[1], sigma=1.5,\n",
    "              neighborhood_function='gaussian', random_seed=1)  \n",
    "\n",
    "som.random_weights_init(X_train)\n",
    "som.train_random(X_train, 100000, verbose=True)"
   ]
  },
  {
   "cell_type": "code",
   "execution_count": 65,
   "metadata": {},
   "outputs": [],
   "source": [
    "import pickle\n",
    "# Save the trained SOM model\n",
    "with open('som_model.pkl', 'wb') as model_file:\n",
    "    pickle.dump(som, model_file)"
   ]
  },
  {
   "cell_type": "code",
   "execution_count": 66,
   "metadata": {},
   "outputs": [],
   "source": [
    "# To load the model later, use the following code\n",
    "with open('som_model.pkl', 'rb') as model_file:\n",
    "    som_loaded = pickle.load(model_file)"
   ]
  },
  {
   "cell_type": "code",
   "execution_count": null,
   "metadata": {},
   "outputs": [],
   "source": [
    "# U_matrix= som_loaded.distance_map()\n",
    "# plt.figure(figsize=(8, 8))\n",
    "# #plt.pcolor(U_matrix.T, cmap='viridis')  # plotting the distance map as background\n",
    "# plt.pcolor(U_matrix, cmap='bone_r')\n",
    "# plt.colorbar()\n",
    "# plt.savefig(f'cluster_bkg_v5.pdf')"
   ]
  },
  {
   "cell_type": "code",
   "execution_count": null,
   "metadata": {},
   "outputs": [],
   "source": [
    "\n",
    "# # Extract final weights\n",
    "# weights = som_loaded.get_weights()\n",
    "\n",
    "# # Find BMUs for test data\n",
    "# bmus = np.array([som_loaded.winner(x) for x in XS])\n",
    "\n",
    "# # Compute U-Matrix using the BMUs\n",
    "# def compute_u_matrix(weights, bmus):\n",
    "#     x, y, z = weights.shape\n",
    "#     umatrix = np.zeros((x, y))\n",
    "#     for i in range(x):\n",
    "#         for j in range(y):\n",
    "#             neighbors = []\n",
    "#             if i > 0:\n",
    "#                 neighbors.append(weights[i-1, j])\n",
    "#             if i < x-1:\n",
    "#                 neighbors.append(weights[i+1, j])\n",
    "#             if j > 0:\n",
    "#                 neighbors.append(weights[i, j-1])\n",
    "#             if j < y-1:\n",
    "#                 neighbors.append(weights[i, j+1])\n",
    "#             umatrix[i, j] = np.mean([np.linalg.norm(weights[i, j] - neighbor) for neighbor in neighbors])\n",
    "#     return umatrix\n",
    "\n",
    "# u_matrix = compute_u_matrix(weights, bmus)\n",
    "# # Plot U-Matrix\n",
    "# plt.figure(figsize=(8, 8))\n",
    "# plt.imshow(u_matrix, cmap='Greens')\n",
    "# #plt.pcolor(U_matrix, cmap='bone_r')\n",
    "# plt.colorbar()\n",
    "# plt.title('U-Matrix for Test Data using Final Weights')\n",
    "# plt.savefig(f'cluster_sgn_v4.pdf',dpi=300,bbox_inches='tight')"
   ]
  },
  {
   "cell_type": "code",
   "execution_count": null,
   "metadata": {},
   "outputs": [],
   "source": [
    "# plt.figure(figsize=(12, 10))\n",
    "\n",
    "# # Plot the U-matrix\n",
    "# u_matrix = som_loaded.distance_map()  # U-matrix\n",
    "# plt.imshow(u_matrix.T, cmap='bone_r', origin='lower')\n",
    "\n",
    "# # Plot the winners\n",
    "# # for cnt, xx in enumerate(XS):\n",
    "# #     w = som_loaded.winner(xx)  # getting the winner\n",
    "# #     plt.text(w[0], w[1], '1', color='r', fontsize=5, fontweight='bold', ha='center', va='center')\n",
    "\n",
    "# plt.title('Winners in the SOM with U-matrix')\n",
    "# plt.colorbar()\n",
    "# plt.grid(True)\n",
    "# plt.show()"
   ]
  },
  {
   "cell_type": "code",
   "execution_count": null,
   "metadata": {},
   "outputs": [],
   "source": [
    "# Plotting the winners in the SOM\n",
    "plt.figure(figsize=(10, 10))\n",
    "for cnt, xx in enumerate(XS):\n",
    "    w = som_loaded.winner(xx)  # getting the winner\n",
    "    plt.text(w[0] + 0.5, w[1] + 0.5, '1', color='r', fontsize=12, fontweight='bold', ha='center', va='center')"
   ]
  },
  {
   "cell_type": "code",
   "execution_count": null,
   "metadata": {},
   "outputs": [],
   "source": [
    "U_matrix= som.distance_map()\n",
    "plt.figure(figsize=(8, 8))\n",
    "#plt.pcolor(U_matrix.T, cmap='viridis')  # plotting the distance map as background\n",
    "plt.pcolor(U_matrix.T, cmap='bone_r')\n",
    "plt.colorbar()\n",
    "plt.savefig(f'cluster_bkg.pdf')"
   ]
  },
  {
   "cell_type": "code",
   "execution_count": null,
   "metadata": {},
   "outputs": [],
   "source": [
    "U_matrix= som_loaded.distance_map()\n",
    "plt.figure(figsize=(8, 8))\n",
    "#plt.pcolor(U_matrix.T, cmap='viridis')  # plotting the distance map as background\n",
    "plt.pcolor(U_matrix.T, cmap='bone_r')\n",
    "plt.colorbar()\n",
    "plt.savefig(f'cluster_bkg_v3.pdf')"
   ]
  }
 ],
 "metadata": {
  "kernelspec": {
   "display_name": "Python 3",
   "language": "python",
   "name": "python3"
  },
  "language_info": {
   "codemirror_mode": {
    "name": "ipython",
    "version": 3
   },
   "file_extension": ".py",
   "mimetype": "text/x-python",
   "name": "python",
   "nbconvert_exporter": "python",
   "pygments_lexer": "ipython3",
   "version": "3.9.6"
  }
 },
 "nbformat": 4,
 "nbformat_minor": 2
}
